{
 "cells": [
  {
   "cell_type": "code",
   "execution_count": null,
   "id": "1c483ec6",
   "metadata": {},
   "outputs": [],
   "source": [
    "# !pip install langchain chromadb openai tiktoken pypdf langchain_openai langchain-community"
   ]
  },
  {
   "cell_type": "code",
   "execution_count": null,
   "id": "76d98585",
   "metadata": {},
   "outputs": [],
   "source": [
    "from langchain_google_genai import ChatGoogleGenerativeAI\n",
    "from dotenv import load_dotenv\n",
    "import os\n",
    "load_dotenv()\n",
    "\n",
    "\n",
    "llm = ChatGoogleGenerativeAI(model=\"gemini-1.5-flash\", temperature=0.2)\n",
    "\n",
    "response = llm.invoke(\"what is machine learnig\")\n",
    "\n",
    "print(response.content)"
   ]
  },
  {
   "cell_type": "code",
   "execution_count": 5,
   "id": "e0134039",
   "metadata": {},
   "outputs": [],
   "source": [
    "from langchain_google_genai import GoogleGenerativeAIEmbeddings\n",
    "from langchain.vectorstores import Chroma"
   ]
  },
  {
   "cell_type": "code",
   "execution_count": 2,
   "id": "8d28c77f",
   "metadata": {},
   "outputs": [],
   "source": [
    "from langchain.schema import Document\n",
    "\n",
    "# Create LangChain documents for IPL players\n",
    "\n",
    "doc1 = Document(\n",
    "        page_content=\"Virat Kohli is one of the most successful and consistent batsmen in IPL history. Known for his aggressive batting style and fitness, he has led the Royal Challengers Bangalore in multiple seasons.\",\n",
    "        metadata={\"team\": \"Royal Challengers Bangalore\"}\n",
    "    )\n",
    "doc2 = Document(\n",
    "        page_content=\"Rohit Sharma is the most successful captain in IPL history, leading Mumbai Indians to five titles. He's known for his calm demeanor and ability to play big innings under pressure.\",\n",
    "        metadata={\"team\": \"Mumbai Indians\"}\n",
    "    )\n",
    "doc3 = Document(\n",
    "        page_content=\"MS Dhoni, famously known as Captain Cool, has led Chennai Super Kings to multiple IPL titles. His finishing skills, wicketkeeping, and leadership are legendary.\",\n",
    "        metadata={\"team\": \"Chennai Super Kings\"}\n",
    "    )\n",
    "doc4 = Document(\n",
    "        page_content=\"Jasprit Bumrah is considered one of the best fast bowlers in T20 cricket. Playing for Mumbai Indians, he is known for his yorkers and death-over expertise.\",\n",
    "        metadata={\"team\": \"Mumbai Indians\"}\n",
    "    )\n",
    "doc5 = Document(\n",
    "        page_content=\"Ravindra Jadeja is a dynamic all-rounder who contributes with both bat and ball. Representing Chennai Super Kings, his quick fielding and match-winning performances make him a key player.\",\n",
    "        metadata={\"team\": \"Chennai Super Kings\"}\n",
    "    )\n"
   ]
  },
  {
   "cell_type": "code",
   "execution_count": 3,
   "id": "e5d57d05",
   "metadata": {},
   "outputs": [],
   "source": [
    "docs = [doc1, doc2, doc3, doc4, doc5]"
   ]
  },
  {
   "cell_type": "code",
   "execution_count": 8,
   "id": "cfbca60f",
   "metadata": {},
   "outputs": [],
   "source": [
    "vector_store = Chroma(\n",
    "    embedding_function=GoogleGenerativeAIEmbeddings(model=\"models/gemini-embedding-001\"),\n",
    "    persist_directory='my_chroma_db',\n",
    "    collection_name='sample'\n",
    ")"
   ]
  },
  {
   "cell_type": "code",
   "execution_count": 9,
   "id": "5c9675b5",
   "metadata": {},
   "outputs": [
    {
     "data": {
      "text/plain": [
       "['b4fae2de-67ea-424c-b99a-fafb693cab87',\n",
       " '8b80f5a0-8fc0-4381-87e7-312b03878de4',\n",
       " '9789c592-fbc1-4cee-8349-24f2f945e2df',\n",
       " '5bbe86ac-6fca-4c3e-9c47-c6277d2ae906',\n",
       " '3c3af042-786c-4b7a-9bd7-e51bf00e0b94']"
      ]
     },
     "execution_count": 9,
     "metadata": {},
     "output_type": "execute_result"
    }
   ],
   "source": [
    "# add documents\n",
    "vector_store.add_documents(docs)"
   ]
  },
  {
   "cell_type": "code",
   "execution_count": 10,
   "id": "75b9a3c8",
   "metadata": {},
   "outputs": [
    {
     "data": {
      "text/plain": [
       "{'ids': ['b4fae2de-67ea-424c-b99a-fafb693cab87',\n",
       "  '8b80f5a0-8fc0-4381-87e7-312b03878de4',\n",
       "  '9789c592-fbc1-4cee-8349-24f2f945e2df',\n",
       "  '5bbe86ac-6fca-4c3e-9c47-c6277d2ae906',\n",
       "  '3c3af042-786c-4b7a-9bd7-e51bf00e0b94'],\n",
       " 'embeddings': array([[-0.00982054,  0.02545763,  0.02402782, ...,  0.01414876,\n",
       "         -0.01560954, -0.00266117],\n",
       "        [-0.01989721,  0.01092714,  0.01730603, ...,  0.00973945,\n",
       "         -0.0176257 , -0.00460104],\n",
       "        [-0.01358705, -0.00359449,  0.01163961, ...,  0.01149882,\n",
       "         -0.02098301,  0.00373549],\n",
       "        [-0.01261678, -0.00227585,  0.00470995, ..., -0.00144414,\n",
       "          0.00646786, -0.00529741],\n",
       "        [-0.01413488, -0.02750698,  0.01302837, ...,  0.00987475,\n",
       "         -0.00950909, -0.00272136]], shape=(5, 3072)),\n",
       " 'documents': ['Virat Kohli is one of the most successful and consistent batsmen in IPL history. Known for his aggressive batting style and fitness, he has led the Royal Challengers Bangalore in multiple seasons.',\n",
       "  \"Rohit Sharma is the most successful captain in IPL history, leading Mumbai Indians to five titles. He's known for his calm demeanor and ability to play big innings under pressure.\",\n",
       "  'MS Dhoni, famously known as Captain Cool, has led Chennai Super Kings to multiple IPL titles. His finishing skills, wicketkeeping, and leadership are legendary.',\n",
       "  'Jasprit Bumrah is considered one of the best fast bowlers in T20 cricket. Playing for Mumbai Indians, he is known for his yorkers and death-over expertise.',\n",
       "  'Ravindra Jadeja is a dynamic all-rounder who contributes with both bat and ball. Representing Chennai Super Kings, his quick fielding and match-winning performances make him a key player.'],\n",
       " 'uris': None,\n",
       " 'included': ['embeddings', 'documents', 'metadatas'],\n",
       " 'data': None,\n",
       " 'metadatas': [{'team': 'Royal Challengers Bangalore'},\n",
       "  {'team': 'Mumbai Indians'},\n",
       "  {'team': 'Chennai Super Kings'},\n",
       "  {'team': 'Mumbai Indians'},\n",
       "  {'team': 'Chennai Super Kings'}]}"
      ]
     },
     "execution_count": 10,
     "metadata": {},
     "output_type": "execute_result"
    }
   ],
   "source": [
    "# view documents\n",
    "vector_store.get(include=['embeddings','documents', 'metadatas'])"
   ]
  },
  {
   "cell_type": "code",
   "execution_count": 11,
   "id": "991bdf45",
   "metadata": {},
   "outputs": [
    {
     "data": {
      "text/plain": [
       "[Document(metadata={'team': 'Mumbai Indians'}, page_content='Jasprit Bumrah is considered one of the best fast bowlers in T20 cricket. Playing for Mumbai Indians, he is known for his yorkers and death-over expertise.'),\n",
       " Document(metadata={'team': 'Chennai Super Kings'}, page_content='Ravindra Jadeja is a dynamic all-rounder who contributes with both bat and ball. Representing Chennai Super Kings, his quick fielding and match-winning performances make him a key player.')]"
      ]
     },
     "execution_count": 11,
     "metadata": {},
     "output_type": "execute_result"
    }
   ],
   "source": [
    "# search documents\n",
    "vector_store.similarity_search(\n",
    "    query='Who among these are a bowler?',\n",
    "    k=2\n",
    ")"
   ]
  },
  {
   "cell_type": "code",
   "execution_count": 12,
   "id": "bb2eb366",
   "metadata": {},
   "outputs": [
    {
     "data": {
      "text/plain": [
       "[(Document(metadata={'team': 'Mumbai Indians'}, page_content='Jasprit Bumrah is considered one of the best fast bowlers in T20 cricket. Playing for Mumbai Indians, he is known for his yorkers and death-over expertise.'),\n",
       "  0.6406819820404053),\n",
       " (Document(metadata={'team': 'Chennai Super Kings'}, page_content='Ravindra Jadeja is a dynamic all-rounder who contributes with both bat and ball. Representing Chennai Super Kings, his quick fielding and match-winning performances make him a key player.'),\n",
       "  0.660536527633667)]"
      ]
     },
     "execution_count": 12,
     "metadata": {},
     "output_type": "execute_result"
    }
   ],
   "source": [
    "# search with similarity score\n",
    "vector_store.similarity_search_with_score(\n",
    "    query='Who among these are a bowler?',\n",
    "    k=2\n",
    ")"
   ]
  },
  {
   "cell_type": "code",
   "execution_count": 14,
   "id": "29f88492",
   "metadata": {},
   "outputs": [
    {
     "data": {
      "text/plain": [
       "[(Document(metadata={'team': 'Chennai Super Kings'}, page_content='Ravindra Jadeja is a dynamic all-rounder who contributes with both bat and ball. Representing Chennai Super Kings, his quick fielding and match-winning performances make him a key player.'),\n",
       "  0.660536527633667),\n",
       " (Document(metadata={'team': 'Chennai Super Kings'}, page_content='MS Dhoni, famously known as Captain Cool, has led Chennai Super Kings to multiple IPL titles. His finishing skills, wicketkeeping, and leadership are legendary.'),\n",
       "  0.7242982387542725)]"
      ]
     },
     "execution_count": 14,
     "metadata": {},
     "output_type": "execute_result"
    }
   ],
   "source": [
    "# meta-data filtering\n",
    "vector_store.similarity_search_with_score(\n",
    "    query=\"Who among these are a bowler?\",\n",
    "    filter={\"team\": \"Chennai Super Kings\"}\n",
    ")"
   ]
  },
  {
   "cell_type": "code",
   "execution_count": 15,
   "id": "9be8a6c6",
   "metadata": {},
   "outputs": [],
   "source": [
    "# update documents\n",
    "updated_doc1 = Document(\n",
    "    page_content=\"Virat Kohli, the former captain of Royal Challengers Bangalore (RCB), is renowned for his aggressive leadership and consistent batting performances. He holds the record for the most runs in IPL history, including multiple centuries in a single season. Despite RCB not winning an IPL title under his captaincy, Kohli's passion and fitness set a benchmark for the league. His ability to chase targets and anchor innings has made him one of the most dependable players in T20 cricket.\",\n",
    "    metadata={\"team\": \"Royal Challengers Bangalore\"}\n",
    ")\n",
    "\n",
    "vector_store.update_document(document_id='09a39dc6-3ba6-4ea7-927e-fdda591da5e4', document=updated_doc1)"
   ]
  },
  {
   "cell_type": "code",
   "execution_count": 16,
   "id": "72c2f41c",
   "metadata": {},
   "outputs": [
    {
     "data": {
      "text/plain": [
       "{'ids': ['b4fae2de-67ea-424c-b99a-fafb693cab87',\n",
       "  '8b80f5a0-8fc0-4381-87e7-312b03878de4',\n",
       "  '9789c592-fbc1-4cee-8349-24f2f945e2df',\n",
       "  '5bbe86ac-6fca-4c3e-9c47-c6277d2ae906',\n",
       "  '3c3af042-786c-4b7a-9bd7-e51bf00e0b94'],\n",
       " 'embeddings': array([[-0.00982054,  0.02545763,  0.02402782, ...,  0.01414876,\n",
       "         -0.01560954, -0.00266117],\n",
       "        [-0.01989721,  0.01092714,  0.01730603, ...,  0.00973945,\n",
       "         -0.0176257 , -0.00460104],\n",
       "        [-0.01358705, -0.00359449,  0.01163961, ...,  0.01149882,\n",
       "         -0.02098301,  0.00373549],\n",
       "        [-0.01261678, -0.00227585,  0.00470995, ..., -0.00144414,\n",
       "          0.00646786, -0.00529741],\n",
       "        [-0.01413488, -0.02750698,  0.01302837, ...,  0.00987475,\n",
       "         -0.00950909, -0.00272136]], shape=(5, 3072)),\n",
       " 'documents': ['Virat Kohli is one of the most successful and consistent batsmen in IPL history. Known for his aggressive batting style and fitness, he has led the Royal Challengers Bangalore in multiple seasons.',\n",
       "  \"Rohit Sharma is the most successful captain in IPL history, leading Mumbai Indians to five titles. He's known for his calm demeanor and ability to play big innings under pressure.\",\n",
       "  'MS Dhoni, famously known as Captain Cool, has led Chennai Super Kings to multiple IPL titles. His finishing skills, wicketkeeping, and leadership are legendary.',\n",
       "  'Jasprit Bumrah is considered one of the best fast bowlers in T20 cricket. Playing for Mumbai Indians, he is known for his yorkers and death-over expertise.',\n",
       "  'Ravindra Jadeja is a dynamic all-rounder who contributes with both bat and ball. Representing Chennai Super Kings, his quick fielding and match-winning performances make him a key player.'],\n",
       " 'uris': None,\n",
       " 'included': ['embeddings', 'documents', 'metadatas'],\n",
       " 'data': None,\n",
       " 'metadatas': [{'team': 'Royal Challengers Bangalore'},\n",
       "  {'team': 'Mumbai Indians'},\n",
       "  {'team': 'Chennai Super Kings'},\n",
       "  {'team': 'Mumbai Indians'},\n",
       "  {'team': 'Chennai Super Kings'}]}"
      ]
     },
     "execution_count": 16,
     "metadata": {},
     "output_type": "execute_result"
    }
   ],
   "source": [
    "# view documents\n",
    "vector_store.get(include=['embeddings','documents', 'metadatas'])"
   ]
  },
  {
   "cell_type": "code",
   "execution_count": 17,
   "id": "556e4a77",
   "metadata": {},
   "outputs": [],
   "source": [
    "# delete document\n",
    "vector_store.delete(ids=['09a39dc6-3ba6-4ea7-927e-fdda591da5e4'])"
   ]
  },
  {
   "cell_type": "code",
   "execution_count": 18,
   "id": "25947b91",
   "metadata": {},
   "outputs": [
    {
     "data": {
      "text/plain": [
       "{'ids': ['b4fae2de-67ea-424c-b99a-fafb693cab87',\n",
       "  '8b80f5a0-8fc0-4381-87e7-312b03878de4',\n",
       "  '9789c592-fbc1-4cee-8349-24f2f945e2df',\n",
       "  '5bbe86ac-6fca-4c3e-9c47-c6277d2ae906',\n",
       "  '3c3af042-786c-4b7a-9bd7-e51bf00e0b94'],\n",
       " 'embeddings': array([[-0.00982054,  0.02545763,  0.02402782, ...,  0.01414876,\n",
       "         -0.01560954, -0.00266117],\n",
       "        [-0.01989721,  0.01092714,  0.01730603, ...,  0.00973945,\n",
       "         -0.0176257 , -0.00460104],\n",
       "        [-0.01358705, -0.00359449,  0.01163961, ...,  0.01149882,\n",
       "         -0.02098301,  0.00373549],\n",
       "        [-0.01261678, -0.00227585,  0.00470995, ..., -0.00144414,\n",
       "          0.00646786, -0.00529741],\n",
       "        [-0.01413488, -0.02750698,  0.01302837, ...,  0.00987475,\n",
       "         -0.00950909, -0.00272136]], shape=(5, 3072)),\n",
       " 'documents': ['Virat Kohli is one of the most successful and consistent batsmen in IPL history. Known for his aggressive batting style and fitness, he has led the Royal Challengers Bangalore in multiple seasons.',\n",
       "  \"Rohit Sharma is the most successful captain in IPL history, leading Mumbai Indians to five titles. He's known for his calm demeanor and ability to play big innings under pressure.\",\n",
       "  'MS Dhoni, famously known as Captain Cool, has led Chennai Super Kings to multiple IPL titles. His finishing skills, wicketkeeping, and leadership are legendary.',\n",
       "  'Jasprit Bumrah is considered one of the best fast bowlers in T20 cricket. Playing for Mumbai Indians, he is known for his yorkers and death-over expertise.',\n",
       "  'Ravindra Jadeja is a dynamic all-rounder who contributes with both bat and ball. Representing Chennai Super Kings, his quick fielding and match-winning performances make him a key player.'],\n",
       " 'uris': None,\n",
       " 'included': ['embeddings', 'documents', 'metadatas'],\n",
       " 'data': None,\n",
       " 'metadatas': [{'team': 'Royal Challengers Bangalore'},\n",
       "  {'team': 'Mumbai Indians'},\n",
       "  {'team': 'Chennai Super Kings'},\n",
       "  {'team': 'Mumbai Indians'},\n",
       "  {'team': 'Chennai Super Kings'}]}"
      ]
     },
     "execution_count": 18,
     "metadata": {},
     "output_type": "execute_result"
    }
   ],
   "source": [
    "# view documents\n",
    "vector_store.get(include=['embeddings','documents', 'metadatas'])"
   ]
  }
 ],
 "metadata": {
  "kernelspec": {
   "display_name": "venv (3.12.9)",
   "language": "python",
   "name": "python3"
  },
  "language_info": {
   "codemirror_mode": {
    "name": "ipython",
    "version": 3
   },
   "file_extension": ".py",
   "mimetype": "text/x-python",
   "name": "python",
   "nbconvert_exporter": "python",
   "pygments_lexer": "ipython3",
   "version": "3.12.9"
  }
 },
 "nbformat": 4,
 "nbformat_minor": 5
}
