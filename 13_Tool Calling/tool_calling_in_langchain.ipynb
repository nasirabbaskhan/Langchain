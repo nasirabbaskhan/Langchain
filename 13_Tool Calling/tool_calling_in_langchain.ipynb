{
  "cells": [
    {
      "cell_type": "code",
      "execution_count": 1,
      "metadata": {},
      "outputs": [
        {
          "name": "stdout",
          "output_type": "stream",
          "text": [
            "tool calling\n"
          ]
        }
      ],
      "source": [
        "print(\"tool calling\") "
      ]
    },
    {
      "cell_type": "code",
      "execution_count": 2,
      "metadata": {
        "colab": {
          "base_uri": "https://localhost:8080/"
        },
        "id": "BhsAIGxgQh2H",
        "outputId": "dc7de7f7-505b-46d8-c2e0-d79f987ec653"
      },
      "outputs": [],
      "source": [
        "# !pip install -q langchain-openai langchain-core requests"
      ]
    },
    {
      "cell_type": "code",
      "execution_count": 3,
      "metadata": {
        "id": "uWMBgyx1Q3Ek"
      },
      "outputs": [
        {
          "name": "stderr",
          "output_type": "stream",
          "text": [
            "f:\\5 Langchain Development\\Langchain\\venv\\Lib\\site-packages\\tqdm\\auto.py:21: TqdmWarning: IProgress not found. Please update jupyter and ipywidgets. See https://ipywidgets.readthedocs.io/en/stable/user_install.html\n",
            "  from .autonotebook import tqdm as notebook_tqdm\n"
          ]
        }
      ],
      "source": [
        "from langchain_google_genai import ChatGoogleGenerativeAI\n",
        "from langchain_core.tools import tool\n",
        "from langchain_core.messages import HumanMessage\n",
        "import requests"
      ]
    },
    {
      "cell_type": "code",
      "execution_count": 4,
      "metadata": {
        "id": "Ppi8jSXxT6EA"
      },
      "outputs": [],
      "source": [
        "# tool create\n",
        "\n",
        "@tool\n",
        "def multiply(a: int, b: int) -> int:\n",
        "  \"\"\"Given 2 numbers a and b this tool returns their product\"\"\"\n",
        "  return a * b"
      ]
    },
    {
      "cell_type": "code",
      "execution_count": 5,
      "metadata": {
        "colab": {
          "base_uri": "https://localhost:8080/"
        },
        "id": "u-eRpimtrUgc",
        "outputId": "74975c88-7ea3-4f9b-ce54-92745e5a2375"
      },
      "outputs": [
        {
          "name": "stdout",
          "output_type": "stream",
          "text": [
            "12\n"
          ]
        }
      ],
      "source": [
        "print(multiply.invoke({'a':3, 'b':4}))"
      ]
    },
    {
      "cell_type": "code",
      "execution_count": 6,
      "metadata": {
        "colab": {
          "base_uri": "https://localhost:8080/",
          "height": 35
        },
        "id": "SSi7Xn0jrZ5Y",
        "outputId": "9ac43aaf-1bad-4d61-fa3e-bc5dcea0cfc0"
      },
      "outputs": [
        {
          "data": {
            "text/plain": [
              "'multiply'"
            ]
          },
          "execution_count": 6,
          "metadata": {},
          "output_type": "execute_result"
        }
      ],
      "source": [
        "multiply.name"
      ]
    },
    {
      "cell_type": "code",
      "execution_count": 7,
      "metadata": {
        "colab": {
          "base_uri": "https://localhost:8080/",
          "height": 35
        },
        "id": "vNcN0ngarb9c",
        "outputId": "83aefc20-12a8-491c-dffd-2829ce0364c5"
      },
      "outputs": [
        {
          "data": {
            "text/plain": [
              "'Given 2 numbers a and b this tool returns their product'"
            ]
          },
          "execution_count": 7,
          "metadata": {},
          "output_type": "execute_result"
        }
      ],
      "source": [
        "multiply.description"
      ]
    },
    {
      "cell_type": "code",
      "execution_count": 8,
      "metadata": {
        "colab": {
          "base_uri": "https://localhost:8080/"
        },
        "id": "3ZdJuKhWrd6w",
        "outputId": "6da753eb-cbcd-49ff-cb87-f3db330d273a"
      },
      "outputs": [
        {
          "data": {
            "text/plain": [
              "{'a': {'title': 'A', 'type': 'integer'},\n",
              " 'b': {'title': 'B', 'type': 'integer'}}"
            ]
          },
          "execution_count": 8,
          "metadata": {},
          "output_type": "execute_result"
        }
      ],
      "source": [
        "multiply.args"
      ]
    },
    {
      "cell_type": "code",
      "execution_count": 9,
      "metadata": {
        "id": "dF6yzEiurfiA"
      },
      "outputs": [],
      "source": [
        "# tool binding"
      ]
    },
    {
      "cell_type": "code",
      "execution_count": 10,
      "metadata": {
        "id": "goFX0Z4PrjN7"
      },
      "outputs": [],
      "source": [
        "llm = ChatGoogleGenerativeAI(model=\"gemini-1.5-flash\", temperature=0.2)"
      ]
    },
    {
      "cell_type": "code",
      "execution_count": 11,
      "metadata": {
        "colab": {
          "base_uri": "https://localhost:8080/"
        },
        "id": "4srYldghox9V",
        "outputId": "58dc0312-a0cd-41a5-f5ab-9b0f7a75ee6a"
      },
      "outputs": [
        {
          "data": {
            "text/plain": [
              "AIMessage(content='Hi there! How can I help you today?', additional_kwargs={}, response_metadata={'prompt_feedback': {'block_reason': 0, 'safety_ratings': []}, 'finish_reason': 'STOP', 'safety_ratings': []}, id='run--7881faac-7a38-419e-a177-da16d73886b5-0', usage_metadata={'input_tokens': 1, 'output_tokens': 11, 'total_tokens': 12, 'input_token_details': {'cache_read': 0}})"
            ]
          },
          "execution_count": 11,
          "metadata": {},
          "output_type": "execute_result"
        }
      ],
      "source": [
        "llm.invoke('hi')"
      ]
    },
    {
      "cell_type": "code",
      "execution_count": 12,
      "metadata": {
        "id": "v3x5N-V6rlHe"
      },
      "outputs": [],
      "source": [
        "llm_with_tools = llm.bind_tools([multiply])"
      ]
    },
    {
      "cell_type": "code",
      "execution_count": 13,
      "metadata": {
        "colab": {
          "base_uri": "https://localhost:8080/"
        },
        "id": "6aLDyLhnrrxu",
        "outputId": "cb93b877-4e3f-42c3-adca-495e23c2094d"
      },
      "outputs": [
        {
          "data": {
            "text/plain": [
              "AIMessage(content=\"I'm doing well, thank you for asking! How are you today?\", additional_kwargs={}, response_metadata={'prompt_feedback': {'block_reason': 0, 'safety_ratings': []}, 'finish_reason': 'STOP', 'safety_ratings': []}, id='run--c6baffc5-604e-48e2-9a69-6248fd83a730-0', usage_metadata={'input_tokens': 24, 'output_tokens': 17, 'total_tokens': 41, 'input_token_details': {'cache_read': 0}})"
            ]
          },
          "execution_count": 13,
          "metadata": {},
          "output_type": "execute_result"
        }
      ],
      "source": [
        "llm_with_tools.invoke('Hi how are you')"
      ]
    },
    {
      "cell_type": "code",
      "execution_count": null,
      "metadata": {
        "id": "nNAUAM_Szb27"
      },
      "outputs": [],
      "source": [
        "messages = [\n",
        "    HumanMessage('can you multiply 3 with 1000')\n",
        "]"
      ]
    },
    {
      "cell_type": "code",
      "execution_count": 16,
      "metadata": {
        "colab": {
          "base_uri": "https://localhost:8080/"
        },
        "id": "-n2U76sWzh1T",
        "outputId": "5a594fad-0efd-493b-b95f-9c4d69c49030"
      },
      "outputs": [
        {
          "data": {
            "text/plain": [
              "[HumanMessage(content='can you multiply 3 with 1000', additional_kwargs={}, response_metadata={})]"
            ]
          },
          "execution_count": 16,
          "metadata": {},
          "output_type": "execute_result"
        }
      ],
      "source": [
        "messages"
      ]
    },
    {
      "cell_type": "code",
      "execution_count": 17,
      "metadata": {
        "id": "vXk2J6QXuaTM"
      },
      "outputs": [],
      "source": [
        "result = llm_with_tools.invoke(messages)"
      ]
    },
    {
      "cell_type": "code",
      "execution_count": 18,
      "metadata": {
        "id": "wXBI8YbUynm4"
      },
      "outputs": [],
      "source": [
        "messages.append(result)"
      ]
    },
    {
      "cell_type": "code",
      "execution_count": 19,
      "metadata": {
        "colab": {
          "base_uri": "https://localhost:8080/"
        },
        "id": "VVRqi5IUzqRO",
        "outputId": "21d05b12-2dff-4acc-c33a-25bc8a809915"
      },
      "outputs": [
        {
          "data": {
            "text/plain": [
              "[HumanMessage(content='can you multiply 3 with 1000', additional_kwargs={}, response_metadata={}),\n",
              " AIMessage(content='', additional_kwargs={'function_call': {'name': 'multiply', 'arguments': '{\"a\": 3.0, \"b\": 1000.0}'}}, response_metadata={'prompt_feedback': {'block_reason': 0, 'safety_ratings': []}, 'finish_reason': 'STOP', 'safety_ratings': []}, id='run--c2b90284-5894-461d-9a29-7f1b4a715beb-0', tool_calls=[{'name': 'multiply', 'args': {'a': 3.0, 'b': 1000.0}, 'id': '8d6a8f3b-6e29-47b8-a91f-6cc049add778', 'type': 'tool_call'}], usage_metadata={'input_tokens': 31, 'output_tokens': 5, 'total_tokens': 36, 'input_token_details': {'cache_read': 0}})]"
            ]
          },
          "execution_count": 19,
          "metadata": {},
          "output_type": "execute_result"
        }
      ],
      "source": [
        "messages"
      ]
    },
    {
      "cell_type": "code",
      "execution_count": 20,
      "metadata": {
        "id": "vBWmBt2cukKY"
      },
      "outputs": [],
      "source": [
        "tool_result = multiply.invoke(result.tool_calls[0])"
      ]
    },
    {
      "cell_type": "code",
      "execution_count": 21,
      "metadata": {
        "colab": {
          "base_uri": "https://localhost:8080/"
        },
        "id": "hlrs709a0UYJ",
        "outputId": "ffac1edf-2940-427d-f3c7-3ed4994bf07d"
      },
      "outputs": [
        {
          "data": {
            "text/plain": [
              "ToolMessage(content='3000', name='multiply', tool_call_id='8d6a8f3b-6e29-47b8-a91f-6cc049add778')"
            ]
          },
          "execution_count": 21,
          "metadata": {},
          "output_type": "execute_result"
        }
      ],
      "source": [
        "tool_result"
      ]
    },
    {
      "cell_type": "code",
      "execution_count": 22,
      "metadata": {
        "id": "y-22Hb_GyxBZ"
      },
      "outputs": [],
      "source": [
        "messages.append(tool_result)"
      ]
    },
    {
      "cell_type": "code",
      "execution_count": 23,
      "metadata": {
        "colab": {
          "base_uri": "https://localhost:8080/"
        },
        "id": "W9cOgYCYzzrY",
        "outputId": "cad4db8f-3610-40f7-82bf-6323b3438911"
      },
      "outputs": [
        {
          "data": {
            "text/plain": [
              "[HumanMessage(content='can you multiply 3 with 1000', additional_kwargs={}, response_metadata={}),\n",
              " AIMessage(content='', additional_kwargs={'function_call': {'name': 'multiply', 'arguments': '{\"a\": 3.0, \"b\": 1000.0}'}}, response_metadata={'prompt_feedback': {'block_reason': 0, 'safety_ratings': []}, 'finish_reason': 'STOP', 'safety_ratings': []}, id='run--c2b90284-5894-461d-9a29-7f1b4a715beb-0', tool_calls=[{'name': 'multiply', 'args': {'a': 3.0, 'b': 1000.0}, 'id': '8d6a8f3b-6e29-47b8-a91f-6cc049add778', 'type': 'tool_call'}], usage_metadata={'input_tokens': 31, 'output_tokens': 5, 'total_tokens': 36, 'input_token_details': {'cache_read': 0}}),\n",
              " ToolMessage(content='3000', name='multiply', tool_call_id='8d6a8f3b-6e29-47b8-a91f-6cc049add778')]"
            ]
          },
          "execution_count": 23,
          "metadata": {},
          "output_type": "execute_result"
        }
      ],
      "source": [
        "messages"
      ]
    },
    {
      "cell_type": "code",
      "execution_count": 24,
      "metadata": {
        "colab": {
          "base_uri": "https://localhost:8080/",
          "height": 35
        },
        "id": "ElWievBEz0nt",
        "outputId": "8765385b-b2d4-4593-b9b6-7445e5d1b906"
      },
      "outputs": [
        {
          "data": {
            "text/plain": [
              "'3 multiplied by 1000 is 3000.'"
            ]
          },
          "execution_count": 24,
          "metadata": {},
          "output_type": "execute_result"
        }
      ],
      "source": [
        "llm_with_tools.invoke(messages).content"
      ]
    },
    {
      "cell_type": "code",
      "execution_count": 25,
      "metadata": {
        "id": "m6fTZVbSz9x_"
      },
      "outputs": [],
      "source": [
        "# tool create\n",
        "from langchain_core.tools import InjectedToolArg\n",
        "from typing import Annotated\n",
        "\n",
        "@tool\n",
        "def get_conversion_factor(base_currency: str, target_currency: str) -> float:\n",
        "  \"\"\"\n",
        "  This function fetches the currency conversion factor between a given base currency and a target currency\n",
        "  \"\"\"\n",
        "  url = f'https://v6.exchangerate-api.com/v6/c754eab14ffab33112e380ca/pair/{base_currency}/{target_currency}'\n",
        "\n",
        "  response = requests.get(url)\n",
        "\n",
        "  return response.json()\n",
        "\n",
        "@tool\n",
        "def convert(base_currency_value: int, conversion_rate: Annotated[float, InjectedToolArg]) -> float:\n",
        "  \"\"\"\n",
        "  given a currency conversion rate this function calculates the target currency value from a given base currency value\n",
        "  \"\"\"\n",
        "\n",
        "  return base_currency_value * conversion_rate\n"
      ]
    },
    {
      "cell_type": "code",
      "execution_count": 26,
      "metadata": {
        "colab": {
          "base_uri": "https://localhost:8080/"
        },
        "id": "TNIqtU-_DDVv",
        "outputId": "79dfbc07-42fc-4650-e65f-4ad13ff6f520"
      },
      "outputs": [
        {
          "data": {
            "text/plain": [
              "{'base_currency_value': {'title': 'Base Currency Value', 'type': 'integer'},\n",
              " 'conversion_rate': {'title': 'Conversion Rate', 'type': 'number'}}"
            ]
          },
          "execution_count": 26,
          "metadata": {},
          "output_type": "execute_result"
        }
      ],
      "source": [
        "convert.args"
      ]
    },
    {
      "cell_type": "code",
      "execution_count": 27,
      "metadata": {
        "colab": {
          "base_uri": "https://localhost:8080/"
        },
        "id": "nO_FhilZ-DYS",
        "outputId": "521a20fb-9abb-45b3-db67-b3ca8f441044"
      },
      "outputs": [
        {
          "data": {
            "text/plain": [
              "{'result': 'success',\n",
              " 'documentation': 'https://www.exchangerate-api.com/docs',\n",
              " 'terms_of_use': 'https://www.exchangerate-api.com/terms',\n",
              " 'time_last_update_unix': 1757203201,\n",
              " 'time_last_update_utc': 'Sun, 07 Sep 2025 00:00:01 +0000',\n",
              " 'time_next_update_unix': 1757289601,\n",
              " 'time_next_update_utc': 'Mon, 08 Sep 2025 00:00:01 +0000',\n",
              " 'base_code': 'USD',\n",
              " 'target_code': 'INR',\n",
              " 'conversion_rate': 88.2341}"
            ]
          },
          "execution_count": 27,
          "metadata": {},
          "output_type": "execute_result"
        }
      ],
      "source": [
        "get_conversion_factor.invoke({'base_currency':'USD','target_currency':'INR'})"
      ]
    },
    {
      "cell_type": "code",
      "execution_count": 28,
      "metadata": {
        "colab": {
          "base_uri": "https://localhost:8080/"
        },
        "id": "z25u1BbW-G8A",
        "outputId": "fd868ea7-c90a-41b9-f463-0cba9b4629ac"
      },
      "outputs": [
        {
          "data": {
            "text/plain": [
              "851.5999999999999"
            ]
          },
          "execution_count": 28,
          "metadata": {},
          "output_type": "execute_result"
        }
      ],
      "source": [
        "convert.invoke({'base_currency_value':10, 'conversion_rate':85.16})"
      ]
    },
    {
      "cell_type": "code",
      "execution_count": 29,
      "metadata": {
        "id": "NzoScebe_ROV"
      },
      "outputs": [],
      "source": [
        "# tool binding\n",
        "llm = ChatGoogleGenerativeAI(model=\"gemini-1.5-flash\", temperature=0.2)"
      ]
    },
    {
      "cell_type": "code",
      "execution_count": 30,
      "metadata": {
        "id": "l-tazhPJ_gQQ"
      },
      "outputs": [],
      "source": [
        "llm_with_tools = llm.bind_tools([get_conversion_factor, convert])"
      ]
    },
    {
      "cell_type": "code",
      "execution_count": 31,
      "metadata": {
        "id": "l8yTOagt_lv6"
      },
      "outputs": [],
      "source": [
        "messages = [HumanMessage('What is the conversion factor between INR and USD, and based on that can you convert 10 inr to usd')]"
      ]
    },
    {
      "cell_type": "code",
      "execution_count": 32,
      "metadata": {
        "colab": {
          "base_uri": "https://localhost:8080/"
        },
        "id": "09KThK4Q_xeG",
        "outputId": "f64efe99-b7e9-404b-ad58-ac487633aa86"
      },
      "outputs": [
        {
          "data": {
            "text/plain": [
              "[HumanMessage(content='What is the conversion factor between INR and USD, and based on that can you convert 10 inr to usd', additional_kwargs={}, response_metadata={})]"
            ]
          },
          "execution_count": 32,
          "metadata": {},
          "output_type": "execute_result"
        }
      ],
      "source": [
        "messages"
      ]
    },
    {
      "cell_type": "code",
      "execution_count": 33,
      "metadata": {
        "id": "lYlRZBnv_ySh"
      },
      "outputs": [],
      "source": [
        "ai_message = llm_with_tools.invoke(messages)"
      ]
    },
    {
      "cell_type": "code",
      "execution_count": 34,
      "metadata": {
        "id": "Q5queI56Xy-m"
      },
      "outputs": [],
      "source": [
        "messages.append(ai_message)"
      ]
    },
    {
      "cell_type": "code",
      "execution_count": 35,
      "metadata": {
        "colab": {
          "base_uri": "https://localhost:8080/"
        },
        "id": "gwqtztEJ_38D",
        "outputId": "abf43c2c-ef54-48dc-97c1-7a37c9b04b22"
      },
      "outputs": [
        {
          "data": {
            "text/plain": [
              "[]"
            ]
          },
          "execution_count": 35,
          "metadata": {},
          "output_type": "execute_result"
        }
      ],
      "source": [
        "ai_message.tool_calls"
      ]
    },
    {
      "cell_type": "code",
      "execution_count": 36,
      "metadata": {
        "id": "1RiGaE63Iai5"
      },
      "outputs": [],
      "source": [
        "import json\n",
        "\n",
        "for tool_call in ai_message.tool_calls:\n",
        "  # execute the 1st tool and get the value of conversion rate\n",
        "  if tool_call['name'] == 'get_conversion_factor':\n",
        "    tool_message1 = get_conversion_factor.invoke(tool_call)\n",
        "    # fetch this conversion rate\n",
        "    conversion_rate = json.loads(tool_message1.content)['conversion_rate']\n",
        "    # append this tool message to messages list\n",
        "    messages.append(tool_message1)\n",
        "  # execute the 2nd tool using the conversion rate from tool 1\n",
        "  if tool_call['name'] == 'convert':\n",
        "    # fetch the current arg\n",
        "    tool_call['args']['conversion_rate'] = conversion_rate\n",
        "    tool_message2 = convert.invoke(tool_call)\n",
        "    messages.append(tool_message2)\n",
        "\n"
      ]
    },
    {
      "cell_type": "code",
      "execution_count": 37,
      "metadata": {
        "colab": {
          "base_uri": "https://localhost:8080/"
        },
        "id": "5ZVYEJ1tUUQH",
        "outputId": "c6ae9ec2-e703-44a1-8a6a-c0cbe64c83e8"
      },
      "outputs": [
        {
          "data": {
            "text/plain": [
              "[HumanMessage(content='What is the conversion factor between INR and USD, and based on that can you convert 10 inr to usd', additional_kwargs={}, response_metadata={}),\n",
              " AIMessage(content='I need more information.  The available function `get_conversion_factor` requires `base_currency` and `target_currency` to be specified.  I cannot determine the conversion factor without that information.  Similarly, the `convert` function needs the conversion rate which is obtained from `get_conversion_factor`.\\n\\nPlease provide the conversion factor between INR and USD.', additional_kwargs={}, response_metadata={'prompt_feedback': {'block_reason': 0, 'safety_ratings': []}, 'finish_reason': 'STOP', 'safety_ratings': []}, id='run--897eeabf-005d-42d7-806b-7136a22e62f0-0', usage_metadata={'input_tokens': 92, 'output_tokens': 78, 'total_tokens': 170, 'input_token_details': {'cache_read': 0}})]"
            ]
          },
          "execution_count": 37,
          "metadata": {},
          "output_type": "execute_result"
        }
      ],
      "source": [
        "messages"
      ]
    },
    {
      "cell_type": "code",
      "execution_count": 38,
      "metadata": {
        "colab": {
          "base_uri": "https://localhost:8080/",
          "height": 35
        },
        "id": "Nit6VQf8Xo0A",
        "outputId": "7bcbd3ed-3802-4fad-e700-f23221ed8cf8"
      },
      "outputs": [
        {
          "data": {
            "text/plain": [
              "'Once you provide the conversion factor, I can perform the conversion.'"
            ]
          },
          "execution_count": 38,
          "metadata": {},
          "output_type": "execute_result"
        }
      ],
      "source": [
        "llm_with_tools.invoke(messages).content"
      ]
    },
    {
      "cell_type": "code",
      "execution_count": 39,
      "metadata": {
        "id": "qS59eqAbX-9d"
      },
      "outputs": [
        {
          "name": "stderr",
          "output_type": "stream",
          "text": [
            "C:\\Users\\AL HASSAN COMPUTERs\\AppData\\Local\\Temp\\ipykernel_2096\\627313024.py:4: LangChainDeprecationWarning: LangChain agents will continue to be supported, but it is recommended for new use cases to be built with LangGraph. LangGraph offers a more flexible and full-featured framework for building agents, including support for tool-calling, persistence of state, and human-in-the-loop workflows. For details, refer to the `LangGraph documentation <https://langchain-ai.github.io/langgraph/>`_ as well as guides for `Migrating from AgentExecutor <https://python.langchain.com/docs/how_to/migrate_agent/>`_ and LangGraph's `Pre-built ReAct agent <https://langchain-ai.github.io/langgraph/how-tos/create-react-agent/>`_.\n",
            "  agent_executor = initialize_agent(\n"
          ]
        }
      ],
      "source": [
        "from langchain.agents import initialize_agent, AgentType\n",
        "\n",
        "# Step 5: Initialize the Agent ---\n",
        "agent_executor = initialize_agent(\n",
        "    tools=[get_conversion_factor, convert],\n",
        "    llm=llm,\n",
        "    agent=AgentType.STRUCTURED_CHAT_ZERO_SHOT_REACT_DESCRIPTION,  # using ReAct pattern\n",
        "    verbose=True  # shows internal thinking\n",
        ")"
      ]
    },
    {
      "cell_type": "code",
      "execution_count": 40,
      "metadata": {
        "colab": {
          "base_uri": "https://localhost:8080/"
        },
        "id": "GcZBabKrTraN",
        "outputId": "e6132f74-87dd-494c-dde4-b6ab0ea8ebf0"
      },
      "outputs": [
        {
          "name": "stdout",
          "output_type": "stream",
          "text": [
            "\n",
            "\n",
            "\u001b[1m> Entering new AgentExecutor chain...\u001b[0m\n",
            "\u001b[32;1m\u001b[1;3mThought:I am doing well, thank you for asking.  I don't have feelings or experiences like humans do, but I'm ready to assist you.\n",
            "\n",
            "Action:\n",
            "```json\n",
            "{\n",
            "  \"action\": \"Final Answer\",\n",
            "  \"action_input\": \"I'm doing well, thank you for asking! How can I help you today?\"\n",
            "}\n",
            "```\u001b[0m\n",
            "\n",
            "\u001b[1m> Finished chain.\u001b[0m\n"
          ]
        }
      ],
      "source": [
        "# --- Step 6: Run the Agent ---\n",
        "user_query = \"Hi how are you?\"\n",
        "\n",
        "response = agent_executor.invoke({\"input\": user_query})"
      ]
    },
    {
      "cell_type": "code",
      "execution_count": null,
      "metadata": {
        "id": "-9DcXChmUqwY"
      },
      "outputs": [],
      "source": []
    }
  ],
  "metadata": {
    "colab": {
      "provenance": []
    },
    "kernelspec": {
      "display_name": "venv (3.12.9)",
      "language": "python",
      "name": "python3"
    },
    "language_info": {
      "codemirror_mode": {
        "name": "ipython",
        "version": 3
      },
      "file_extension": ".py",
      "mimetype": "text/x-python",
      "name": "python",
      "nbconvert_exporter": "python",
      "pygments_lexer": "ipython3",
      "version": "3.12.9"
    }
  },
  "nbformat": 4,
  "nbformat_minor": 0
}
