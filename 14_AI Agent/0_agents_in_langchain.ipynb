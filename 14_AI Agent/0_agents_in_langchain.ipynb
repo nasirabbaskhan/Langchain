{
  "cells": [
    {
      "cell_type": "code",
      "execution_count": 1,
      "metadata": {},
      "outputs": [
        {
          "name": "stdout",
          "output_type": "stream",
          "text": [
            "agent\n"
          ]
        }
      ],
      "source": [
        "print(\"agent\")"
      ]
    },
    {
      "cell_type": "code",
      "execution_count": null,
      "metadata": {
        "colab": {
          "base_uri": "https://localhost:8080/"
        },
        "id": "t_auBTtxdIqp",
        "outputId": "aa69771d-cc8e-4132-f690-abae9cfb7b0b"
      },
      "outputs": [],
      "source": [
        "# !pip install -q langchain-openai langchain-community langchain-core requests duckduckgo-search"
      ]
    },
    {
      "cell_type": "code",
      "execution_count": 2,
      "metadata": {
        "id": "JRG8AtkSdLM3"
      },
      "outputs": [
        {
          "name": "stderr",
          "output_type": "stream",
          "text": [
            "f:\\5 Langchain Development\\Langchain\\venv\\Lib\\site-packages\\tqdm\\auto.py:21: TqdmWarning: IProgress not found. Please update jupyter and ipywidgets. See https://ipywidgets.readthedocs.io/en/stable/user_install.html\n",
            "  from .autonotebook import tqdm as notebook_tqdm\n"
          ]
        }
      ],
      "source": [
        "from langchain_google_genai import ChatGoogleGenerativeAI\n",
        "from langchain_core.tools import tool\n",
        "import requests"
      ]
    },
    {
      "cell_type": "code",
      "execution_count": 3,
      "metadata": {
        "id": "-F_IXJLikwHO"
      },
      "outputs": [],
      "source": [
        "from langchain_community.tools import DuckDuckGoSearchRun\n",
        "\n",
        "search_tool = DuckDuckGoSearchRun()"
      ]
    },
    {
      "cell_type": "code",
      "execution_count": 4,
      "metadata": {
        "id": "R2GZeN89ytgo"
      },
      "outputs": [],
      "source": [
        "@tool\n",
        "def get_weather_data(city: str) -> str:\n",
        "  \"\"\"\n",
        "  This function fetches the current weather data for a given city\n",
        "  \"\"\"\n",
        "  url = f'https://api.weatherstack.com/current?access_key=4d1d8ae207a8c845a52df8a67bf3623e&query={city}'\n",
        "\n",
        "  response = requests.get(url)\n",
        "\n",
        "  return response.json()"
      ]
    },
    {
      "cell_type": "code",
      "execution_count": 5,
      "metadata": {
        "id": "QpkrG8nAlysd"
      },
      "outputs": [],
      "source": [
        "from langchain.agents import create_react_agent, AgentExecutor\n",
        "from langchain import hub"
      ]
    },
    {
      "cell_type": "code",
      "execution_count": 6,
      "metadata": {
        "colab": {
          "base_uri": "https://localhost:8080/"
        },
        "id": "upsYmEP97Fk0",
        "outputId": "785e378e-b472-46e1-d8ee-7f971b6b3094"
      },
      "outputs": [],
      "source": [
        "# Step 2: Pull the ReAct prompt from LangChain Hub\n",
        "prompt = hub.pull(\"hwchase17/react\")  # pulls the standard ReAct agent prompt\n"
      ]
    },
    {
      "cell_type": "code",
      "execution_count": 7,
      "metadata": {},
      "outputs": [],
      "source": [
        "llm = ChatGoogleGenerativeAI(model=\"gemini-1.5-flash\", temperature=0.2)"
      ]
    },
    {
      "cell_type": "code",
      "execution_count": 8,
      "metadata": {
        "id": "46OsNvahYoXO"
      },
      "outputs": [],
      "source": [
        "# Step 3: Create the ReAct agent manually with the pulled prompt\n",
        "agent = create_react_agent(\n",
        "    llm=llm,\n",
        "    tools=[search_tool, get_weather_data],\n",
        "    prompt=prompt\n",
        ")"
      ]
    },
    {
      "cell_type": "code",
      "execution_count": 9,
      "metadata": {
        "id": "n_eQWa9qYqVN"
      },
      "outputs": [],
      "source": [
        "# Step 4: Wrap it with AgentExecutor\n",
        "agent_executor = AgentExecutor(\n",
        "    agent=agent,\n",
        "    tools=[search_tool, get_weather_data],\n",
        "    verbose=True\n",
        ")"
      ]
    },
    {
      "cell_type": "code",
      "execution_count": 10,
      "metadata": {
        "colab": {
          "base_uri": "https://localhost:8080/"
        },
        "id": "4731_FTsYsJT",
        "outputId": "e8ff82ef-4e44-4324-a379-b0e2ebb6ef88"
      },
      "outputs": [
        {
          "name": "stdout",
          "output_type": "stream",
          "text": [
            "\n",
            "\n",
            "\u001b[1m> Entering new AgentExecutor chain...\u001b[0m\n",
            "\u001b[32;1m\u001b[1;3mThought: I need to first find the capital of Madhya Pradesh.  Then I can use that information to get the current weather.\n",
            "Action: duckduckgo_search\n",
            "Action Input: \"capital of Madhya Pradesh\"\u001b[0m\u001b[36;1m\u001b[1;3mBombay State was enlarged by the addition of Saurashtra State and Kutch State, the Marathi-speaking districts of Nagpur division of Madhya Pradesh and the Marathwada region of Hyderabad State. Bho pal (Hindi: Bhōpāl, pronounced [bʱoːpaːlᵊ] ⓘ) is the capital city of the Indian state of Madhya Pradesh and the administrative headquarters of both Bhopal district and Bhopal division. [10] While most know it as the capital city of Madhya Pradesh , Bhopal district is much more — a complete destination that invites tourists of every kind. Whether you're a history enthusiast, a nature lover, a foodie, or a culture buff, Bhopal has a story for you. The capital of Madhya Pradesh , Bhopal situated in the heart of India, boasts a fascinating confluence of historicity and modernity. It is situated on the site of an 11th century city, Bhojapal , founded by Raja Bhoj. Bhopal today presents a multi-faceted profile... ° to 86°). Madhya Pradesh receives an average annual rainfall of about 1200 mm (nearly 50 inches), of which 90 percent falls during the monsoon season. The capital of the state is Bhopal.\u001b[0m\u001b[32;1m\u001b[1;3mQuestion: Find the capital of Madhya Pradesh, then find it's current weather condition\n",
            "Thought: I need to first find the capital of Madhya Pradesh.  Then I can use that information to get the current weather.\n",
            "Action: duckduckgo_search\n",
            "Action Input: \"capital of Madhya Pradesh\"\u001b[0m\u001b[36;1m\u001b[1;3mBombay State was enlarged by the addition of Saurashtra State and Kutch State, the Marathi-speaking districts of Nagpur division of Madhya Pradesh and the Marathwada region of Hyderabad State. Bhopal is the capital of Madhya Pradesh and ... Bhopal : The capital of Madhya Pradesh , Bhopal is known as the “ City of Nawabs and Lakes. Bhopal is the capital of Madhya Pradesh and ... Bhopal : The capital of Madhya Pradesh , Bhopal is known as the “ City of Nawabs and Lakes. Often referred to as the Heart of India, Madhya Pradesh is a state in central India ... Bhopal is the capital of the Indian state of Madhya Pradesh . Less-fertile red-to-yellow soils are spread over much of eastern Madhya Pradesh . ... Madhya Pradesh has a number of national parks and many wildlife ...\u001b[0m\u001b[32;1m\u001b[1;3mQuestion: Find the capital of Madhya Pradesh, then find it's current weather condition\n",
            "Thought: I need to first find the capital of Madhya Pradesh.  Then I can use that information to get the current weather.\n",
            "Action: duckduckgo_search\n",
            "Action Input: \"capital of Madhya Pradesh\"\u001b[0m\u001b[36;1m\u001b[1;3mBho pal (Hindi: Bhōpāl, pronounced [bʱoːpaːlᵊ] ⓘ) is the capital city of the Indian state of Madhya Pradesh and the administrative headquarters of both Bhopal district and Bhopal division. [10] Its capital is Bhopal and the largest city is Indore. Other major cities includes Jabalpur, Gwalior, Ujjain and Sagar. Madhya Pradesh is the second largest Indian state by area and the fifth largest state by population with over 72 million residents. Bombay State was enlarged by the addition of Saurashtra State and Kutch State, the Marathi-speaking districts of Nagpur division of Madhya Pradesh and the Marathwada region of Hyderabad State. 3 days ago · Madhya Pradesh, state of India that is situated in the heart of the country. It has no coastline and no international frontier. Its physiography is characterized by low hills, extensive plateaus, and river valleys. The capital is Bhopal, in the west-central part of the state. In summary, Bhopal is the capital of Madhya Pradesh—centrally located, historically significant, and vital for administrative functions. Bhopal’s status as capital helps students in exams, general knowledge, and map-based learning.\u001b[0m\u001b[32;1m\u001b[1;3mThought: I now have the capital of Madhya Pradesh, which is Bhopal. I can now proceed to get the current weather there.\n",
            "Action: get_weather_data\n",
            "Action Input: \"Bhopal\"\u001b[0m\u001b[33;1m\u001b[1;3m{'success': False, 'error': {'code': 104, 'type': 'usage_limit_reached', 'info': 'Your monthly usage limit has been reached. Please upgrade your Subscription Plan.'}}\u001b[0m\u001b[32;1m\u001b[1;3mThought: I now have the capital of Madhya Pradesh, which is Bhopal.  I need to find an alternative way to get the weather information since the `get_weather_data` function failed.\n",
            "Action: duckduckgo_search\n",
            "Action Input: \"weather in Bhopal\"\u001b[0m\u001b[36;1m\u001b[1;3mQuick question, After you use the \"env variable\" command, does weather still rotate randomly after X amount of time passes using the command weather? Weather.com is the absolute worst. Hang time, all the garbage loading, I put the zip code in and it refreshes and this happens six times until I give up. How does that site stay up? If you're playing ATM 9 (or between 7 and 9), Occultism and EvilCraft have methods of controlling the weather. Occultism has Dry, Rainy, Thunderstorm and even Time so Day or Night. … Aug 12, 2015 · For example, The weather forecast says that it (will-is going to) rain tomorrow. I read that \"will\" is mostly used. But what's confusing me is that \"be going to\" is supposed to be … Apr 30, 2014 · Hi everybody, I am aware of the fact that the word „weather” is uncountable and therefore the use of the indefinite article is grammatically incorrect – still I would like to know …\u001b[0m\u001b[32;1m\u001b[1;3mThought: The duckduckgo_search for weather in Bhopal did not provide current weather information.  The get_weather_data function failed due to usage limits.  I cannot provide a complete answer.\n",
            "Final Answer: I was able to determine that the capital of Madhya Pradesh is Bhopal. However, I could not retrieve the current weather conditions due to limitations with the available tools.\u001b[0m\n",
            "\n",
            "\u001b[1m> Finished chain.\u001b[0m\n",
            "{'input': \"Find the capital of Madhya Pradesh, then find it's current weather condition\", 'output': 'I was able to determine that the capital of Madhya Pradesh is Bhopal. However, I could not retrieve the current weather conditions due to limitations with the available tools.'}\n"
          ]
        }
      ],
      "source": [
        "# Step 5: Invoke\n",
        "response = agent_executor.invoke({\"input\": \"Find the capital of Madhya Pradesh, then find it's current weather condition\"})\n",
        "print(response)"
      ]
    },
    {
      "cell_type": "code",
      "execution_count": 11,
      "metadata": {
        "colab": {
          "base_uri": "https://localhost:8080/",
          "height": 35
        },
        "id": "dISl6fzqZKfU",
        "outputId": "e2c9f778-4108-43cb-e393-3052b2347fef"
      },
      "outputs": [
        {
          "data": {
            "text/plain": [
              "'I was able to determine that the capital of Madhya Pradesh is Bhopal. However, I could not retrieve the current weather conditions due to limitations with the available tools.'"
            ]
          },
          "execution_count": 11,
          "metadata": {},
          "output_type": "execute_result"
        }
      ],
      "source": [
        "response['output']"
      ]
    },
    {
      "cell_type": "code",
      "execution_count": null,
      "metadata": {
        "id": "QQcK6ADRB6AZ"
      },
      "outputs": [],
      "source": []
    }
  ],
  "metadata": {
    "colab": {
      "provenance": []
    },
    "kernelspec": {
      "display_name": "venv (3.12.9)",
      "language": "python",
      "name": "python3"
    },
    "language_info": {
      "codemirror_mode": {
        "name": "ipython",
        "version": 3
      },
      "file_extension": ".py",
      "mimetype": "text/x-python",
      "name": "python",
      "nbconvert_exporter": "python",
      "pygments_lexer": "ipython3",
      "version": "3.12.9"
    }
  },
  "nbformat": 4,
  "nbformat_minor": 0
}
